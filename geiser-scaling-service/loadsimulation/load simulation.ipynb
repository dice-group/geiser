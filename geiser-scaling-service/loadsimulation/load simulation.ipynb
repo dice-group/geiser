{
 "cells": [
  {
   "cell_type": "markdown",
   "metadata": {},
   "source": [
    "First configure the imports and parameters of message sending"
   ]
  },
  {
   "cell_type": "code",
   "execution_count": 1,
   "metadata": {},
   "outputs": [],
   "source": [
    "import math # for sine\n",
    "\n",
    "#100ms delay between each bulk message sending\n",
    "delay=100\n",
    "#message distribution over time: \"sine\" (absolute of sine wave) or \"saw\" (sawtooth)\n",
    "curve=\"sine\"\n",
    "#frequency of message distribution change (0.1=repeats curve every 10 loops)\n",
    "frequency=0.2\n",
    "#multiplier defines max number of messages in each bulk\n",
    "multiplier=100"
   ]
  },
  {
   "cell_type": "code",
   "execution_count": 7,
   "metadata": {},
   "outputs": [
    {
     "name": "stdout",
     "output_type": "stream",
     "text": [
      "0\n",
      "30\n",
      "58\n",
      "80\n",
      "95\n",
      "100\n",
      "95\n",
      "80\n",
      "58\n",
      "30\n",
      "0\n",
      "30\n",
      "58\n",
      "80\n",
      "95\n",
      "100\n",
      "95\n",
      "80\n",
      "58\n",
      "30\n"
     ]
    }
   ],
   "source": [
    "# loop 0..19\n",
    "for i in range(20):\n",
    "    print(math.floor(math.fabs(math.sin(i*frequency*math.pi)*multiplier)))"
   ]
  },
  {
   "cell_type": "code",
   "execution_count": null,
   "metadata": {},
   "outputs": [],
   "source": []
  }
 ],
 "metadata": {
  "kernelspec": {
   "display_name": "Python 3",
   "language": "python",
   "name": "python3"
  },
  "language_info": {
   "codemirror_mode": {
    "name": "ipython",
    "version": 3
   },
   "file_extension": ".py",
   "mimetype": "text/x-python",
   "name": "python",
   "nbconvert_exporter": "python",
   "pygments_lexer": "ipython3",
   "version": "3.4.3"
  }
 },
 "nbformat": 4,
 "nbformat_minor": 2
}
