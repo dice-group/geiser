{
 "cells": [
  {
   "cell_type": "markdown",
   "metadata": {},
   "source": [
    "First configure the imports and parameters of message sending"
   ]
  },
  {
   "cell_type": "code",
   "execution_count": 1,
   "metadata": {},
   "outputs": [],
   "source": [
    "import math # for sine\n",
    "\n",
    "#100ms delay between each bulk message sending\n",
    "delay=100\n",
    "#message distribution over time: \"sine\" (absolute of sine wave) or \"saw\" (sawtooth)\n",
    "curve=\"sine\"\n",
    "#frequency of message distribution change (0.1=repeats curve every 10 loops)\n",
    "frequency=0.1\n",
    "#multiplier defines max number of messages in each bulk\n",
    "multiplier=100"
   ]
  },
  {
   "cell_type": "code",
   "execution_count": 3,
   "metadata": {},
   "outputs": [
    {
     "ename": "SyntaxError",
     "evalue": "unexpected EOF while parsing (<ipython-input-3-0ecabeee0cb6>, line 3)",
     "output_type": "error",
     "traceback": [
      "\u001b[0;36m  File \u001b[0;32m\"<ipython-input-3-0ecabeee0cb6>\"\u001b[0;36m, line \u001b[0;32m3\u001b[0m\n\u001b[0;31m    math.fabs(math.sin(i/math.pi)\u001b[0m\n\u001b[0m                                 ^\u001b[0m\n\u001b[0;31mSyntaxError\u001b[0m\u001b[0;31m:\u001b[0m unexpected EOF while parsing\n"
     ]
    }
   ],
   "source": [
    "# loop 0..19\n",
    "for i in range(20):\n",
    "    math.fabs(math.sin(i/math.pi))"
   ]
  },
  {
   "cell_type": "code",
   "execution_count": null,
   "metadata": {},
   "outputs": [],
   "source": []
  }
 ],
 "metadata": {
  "kernelspec": {
   "display_name": "Python 3",
   "language": "python",
   "name": "python3"
  },
  "language_info": {
   "codemirror_mode": {
    "name": "ipython",
    "version": 3
   },
   "file_extension": ".py",
   "mimetype": "text/x-python",
   "name": "python",
   "nbconvert_exporter": "python",
   "pygments_lexer": "ipython3",
   "version": "3.4.3"
  }
 },
 "nbformat": 4,
 "nbformat_minor": 2
}
